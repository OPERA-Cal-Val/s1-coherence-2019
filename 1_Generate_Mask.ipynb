{
 "cells": [
  {
   "cell_type": "code",
   "execution_count": 1,
   "id": "2994daf4-ed21-412d-8640-6e12949ea16f",
   "metadata": {},
   "outputs": [],
   "source": [
    "import geopandas as gpd\n",
    "import rasterio\n",
    "import numpy as np\n",
    "from rasterio.plot import show\n",
    "from pathlib import Path\n",
    "from tqdm import tqdm\n",
    "import concurrent.futures"
   ]
  },
  {
   "cell_type": "code",
   "execution_count": 2,
   "id": "bd35c7d8-b596-4d18-83e9-aa623be4c5ee",
   "metadata": {},
   "outputs": [
    {
     "data": {
      "text/html": [
       "<div>\n",
       "<style scoped>\n",
       "    .dataframe tbody tr th:only-of-type {\n",
       "        vertical-align: middle;\n",
       "    }\n",
       "\n",
       "    .dataframe tbody tr th {\n",
       "        vertical-align: top;\n",
       "    }\n",
       "\n",
       "    .dataframe thead th {\n",
       "        text-align: right;\n",
       "    }\n",
       "</style>\n",
       "<table border=\"1\" class=\"dataframe\">\n",
       "  <thead>\n",
       "    <tr style=\"text-align: right;\">\n",
       "      <th></th>\n",
       "      <th>bucket</th>\n",
       "      <th>key</th>\n",
       "      <th>tile_id</th>\n",
       "      <th>season</th>\n",
       "      <th>geometry</th>\n",
       "    </tr>\n",
       "  </thead>\n",
       "  <tbody>\n",
       "    <tr>\n",
       "      <th>0</th>\n",
       "      <td>sentinel-1-global-coherence-earthbigdata</td>\n",
       "      <td>data/tiles/N00E005/N00E005_fall_vv_COH12.tif</td>\n",
       "      <td>N00E005</td>\n",
       "      <td>fall</td>\n",
       "      <td>POLYGON ((6.00000 -1.00000, 6.00000 0.00000, 5...</td>\n",
       "    </tr>\n",
       "    <tr>\n",
       "      <th>1</th>\n",
       "      <td>sentinel-1-global-coherence-earthbigdata</td>\n",
       "      <td>data/tiles/N00E005/N00E005_spring_vv_COH12.tif</td>\n",
       "      <td>N00E005</td>\n",
       "      <td>spring</td>\n",
       "      <td>POLYGON ((6.00000 -1.00000, 6.00000 0.00000, 5...</td>\n",
       "    </tr>\n",
       "    <tr>\n",
       "      <th>2</th>\n",
       "      <td>sentinel-1-global-coherence-earthbigdata</td>\n",
       "      <td>data/tiles/N00E005/N00E005_summer_vv_COH12.tif</td>\n",
       "      <td>N00E005</td>\n",
       "      <td>summer</td>\n",
       "      <td>POLYGON ((6.00000 -1.00000, 6.00000 0.00000, 5...</td>\n",
       "    </tr>\n",
       "    <tr>\n",
       "      <th>3</th>\n",
       "      <td>sentinel-1-global-coherence-earthbigdata</td>\n",
       "      <td>data/tiles/N00E005/N00E005_winter_vv_COH12.tif</td>\n",
       "      <td>N00E005</td>\n",
       "      <td>winter</td>\n",
       "      <td>POLYGON ((6.00000 -1.00000, 6.00000 0.00000, 5...</td>\n",
       "    </tr>\n",
       "    <tr>\n",
       "      <th>4</th>\n",
       "      <td>sentinel-1-global-coherence-earthbigdata</td>\n",
       "      <td>data/tiles/N00E006/N00E006_fall_vv_COH12.tif</td>\n",
       "      <td>N00E006</td>\n",
       "      <td>fall</td>\n",
       "      <td>POLYGON ((7.00000 -1.00000, 7.00000 0.00000, 6...</td>\n",
       "    </tr>\n",
       "  </tbody>\n",
       "</table>\n",
       "</div>"
      ],
      "text/plain": [
       "                                     bucket  \\\n",
       "0  sentinel-1-global-coherence-earthbigdata   \n",
       "1  sentinel-1-global-coherence-earthbigdata   \n",
       "2  sentinel-1-global-coherence-earthbigdata   \n",
       "3  sentinel-1-global-coherence-earthbigdata   \n",
       "4  sentinel-1-global-coherence-earthbigdata   \n",
       "\n",
       "                                              key  tile_id  season  \\\n",
       "0    data/tiles/N00E005/N00E005_fall_vv_COH12.tif  N00E005    fall   \n",
       "1  data/tiles/N00E005/N00E005_spring_vv_COH12.tif  N00E005  spring   \n",
       "2  data/tiles/N00E005/N00E005_summer_vv_COH12.tif  N00E005  summer   \n",
       "3  data/tiles/N00E005/N00E005_winter_vv_COH12.tif  N00E005  winter   \n",
       "4    data/tiles/N00E006/N00E006_fall_vv_COH12.tif  N00E006    fall   \n",
       "\n",
       "                                            geometry  \n",
       "0  POLYGON ((6.00000 -1.00000, 6.00000 0.00000, 5...  \n",
       "1  POLYGON ((6.00000 -1.00000, 6.00000 0.00000, 5...  \n",
       "2  POLYGON ((6.00000 -1.00000, 6.00000 0.00000, 5...  \n",
       "3  POLYGON ((6.00000 -1.00000, 6.00000 0.00000, 5...  \n",
       "4  POLYGON ((7.00000 -1.00000, 7.00000 0.00000, 6...  "
      ]
     },
     "execution_count": 2,
     "metadata": {},
     "output_type": "execute_result"
    }
   ],
   "source": [
    "df = gpd.read_file('coherence_tiles.geojson')\n",
    "df.head()"
   ]
  },
  {
   "cell_type": "code",
   "execution_count": 3,
   "id": "ed8a09d4-9f07-4cdd-9060-ffab209e3b6c",
   "metadata": {},
   "outputs": [],
   "source": [
    "df_na_opera = gpd.read_file('opera-north-america.geojson')\n",
    "na_opera_geo = df_na_opera.geometry.unary_union"
   ]
  },
  {
   "cell_type": "code",
   "execution_count": 4,
   "id": "6d0d5314-b091-4176-9723-eb4156df1272",
   "metadata": {},
   "outputs": [
    {
     "data": {
      "text/html": [
       "<div>\n",
       "<style scoped>\n",
       "    .dataframe tbody tr th:only-of-type {\n",
       "        vertical-align: middle;\n",
       "    }\n",
       "\n",
       "    .dataframe tbody tr th {\n",
       "        vertical-align: top;\n",
       "    }\n",
       "\n",
       "    .dataframe thead th {\n",
       "        text-align: right;\n",
       "    }\n",
       "</style>\n",
       "<table border=\"1\" class=\"dataframe\">\n",
       "  <thead>\n",
       "    <tr style=\"text-align: right;\">\n",
       "      <th></th>\n",
       "      <th>bucket</th>\n",
       "      <th>key</th>\n",
       "      <th>tile_id</th>\n",
       "      <th>season</th>\n",
       "      <th>geometry</th>\n",
       "    </tr>\n",
       "  </thead>\n",
       "  <tbody>\n",
       "    <tr>\n",
       "      <th>0</th>\n",
       "      <td>sentinel-1-global-coherence-earthbigdata</td>\n",
       "      <td>data/tiles/N08W078/N08W078_fall_vv_COH12.tif</td>\n",
       "      <td>N08W078</td>\n",
       "      <td>fall</td>\n",
       "      <td>POLYGON ((-77.00000 7.00000, -77.00000 8.00000...</td>\n",
       "    </tr>\n",
       "    <tr>\n",
       "      <th>1</th>\n",
       "      <td>sentinel-1-global-coherence-earthbigdata</td>\n",
       "      <td>data/tiles/N08W078/N08W078_spring_vv_COH12.tif</td>\n",
       "      <td>N08W078</td>\n",
       "      <td>spring</td>\n",
       "      <td>POLYGON ((-77.00000 7.00000, -77.00000 8.00000...</td>\n",
       "    </tr>\n",
       "    <tr>\n",
       "      <th>2</th>\n",
       "      <td>sentinel-1-global-coherence-earthbigdata</td>\n",
       "      <td>data/tiles/N08W078/N08W078_summer_vv_COH12.tif</td>\n",
       "      <td>N08W078</td>\n",
       "      <td>summer</td>\n",
       "      <td>POLYGON ((-77.00000 7.00000, -77.00000 8.00000...</td>\n",
       "    </tr>\n",
       "    <tr>\n",
       "      <th>3</th>\n",
       "      <td>sentinel-1-global-coherence-earthbigdata</td>\n",
       "      <td>data/tiles/N08W078/N08W078_winter_vv_COH12.tif</td>\n",
       "      <td>N08W078</td>\n",
       "      <td>winter</td>\n",
       "      <td>POLYGON ((-77.00000 7.00000, -77.00000 8.00000...</td>\n",
       "    </tr>\n",
       "    <tr>\n",
       "      <th>4</th>\n",
       "      <td>sentinel-1-global-coherence-earthbigdata</td>\n",
       "      <td>data/tiles/N08W079/N08W079_fall_vv_COH12.tif</td>\n",
       "      <td>N08W079</td>\n",
       "      <td>fall</td>\n",
       "      <td>POLYGON ((-78.00000 7.00000, -78.00000 8.00000...</td>\n",
       "    </tr>\n",
       "  </tbody>\n",
       "</table>\n",
       "</div>"
      ],
      "text/plain": [
       "                                     bucket  \\\n",
       "0  sentinel-1-global-coherence-earthbigdata   \n",
       "1  sentinel-1-global-coherence-earthbigdata   \n",
       "2  sentinel-1-global-coherence-earthbigdata   \n",
       "3  sentinel-1-global-coherence-earthbigdata   \n",
       "4  sentinel-1-global-coherence-earthbigdata   \n",
       "\n",
       "                                              key  tile_id  season  \\\n",
       "0    data/tiles/N08W078/N08W078_fall_vv_COH12.tif  N08W078    fall   \n",
       "1  data/tiles/N08W078/N08W078_spring_vv_COH12.tif  N08W078  spring   \n",
       "2  data/tiles/N08W078/N08W078_summer_vv_COH12.tif  N08W078  summer   \n",
       "3  data/tiles/N08W078/N08W078_winter_vv_COH12.tif  N08W078  winter   \n",
       "4    data/tiles/N08W079/N08W079_fall_vv_COH12.tif  N08W079    fall   \n",
       "\n",
       "                                            geometry  \n",
       "0  POLYGON ((-77.00000 7.00000, -77.00000 8.00000...  \n",
       "1  POLYGON ((-77.00000 7.00000, -77.00000 8.00000...  \n",
       "2  POLYGON ((-77.00000 7.00000, -77.00000 8.00000...  \n",
       "3  POLYGON ((-77.00000 7.00000, -77.00000 8.00000...  \n",
       "4  POLYGON ((-78.00000 7.00000, -78.00000 8.00000...  "
      ]
     },
     "execution_count": 4,
     "metadata": {},
     "output_type": "execute_result"
    }
   ],
   "source": [
    "df_na = df[df.geometry.intersects(na_opera_geo)].reset_index(drop=True)\n",
    "df_na.head()"
   ]
  },
  {
   "cell_type": "code",
   "execution_count": 5,
   "id": "4812de70-a79b-4954-ab17-d1742c8f9655",
   "metadata": {},
   "outputs": [
    {
     "data": {
      "text/plain": [
       "1907"
      ]
     },
     "execution_count": 5,
     "metadata": {},
     "output_type": "execute_result"
    }
   ],
   "source": [
    "len(df_na.tile_id.unique())"
   ]
  },
  {
   "cell_type": "code",
   "execution_count": 6,
   "id": "b5a33d13-1159-4c1a-a846-20188605daa7",
   "metadata": {},
   "outputs": [
    {
     "data": {
      "text/plain": [
       "[{'tile_id': 'N08W078',\n",
       "  'key': ['data/tiles/N08W078/N08W078_fall_vv_COH12.tif',\n",
       "   'data/tiles/N08W078/N08W078_spring_vv_COH12.tif',\n",
       "   'data/tiles/N08W078/N08W078_summer_vv_COH12.tif',\n",
       "   'data/tiles/N08W078/N08W078_winter_vv_COH12.tif'],\n",
       "  'bucket': 'sentinel-1-global-coherence-earthbigdata'},\n",
       " {'tile_id': 'N08W079',\n",
       "  'key': ['data/tiles/N08W079/N08W079_fall_vv_COH12.tif',\n",
       "   'data/tiles/N08W079/N08W079_spring_vv_COH12.tif',\n",
       "   'data/tiles/N08W079/N08W079_summer_vv_COH12.tif',\n",
       "   'data/tiles/N08W079/N08W079_winter_vv_COH12.tif'],\n",
       "  'bucket': 'sentinel-1-global-coherence-earthbigdata'}]"
      ]
     },
     "execution_count": 6,
     "metadata": {},
     "output_type": "execute_result"
    }
   ],
   "source": [
    "df_tiles = df_na[['tile_id', 'key', 'bucket']].groupby('tile_id').agg(dict(key=list,\n",
    "                                                              bucket='first')).reset_index(drop=False)\n",
    "tile_data = df_tiles.to_dict('records')\n",
    "tile_data[:2]"
   ]
  },
  {
   "cell_type": "code",
   "execution_count": 7,
   "id": "677670de-f2e6-4731-9ecc-747fd6aeba60",
   "metadata": {},
   "outputs": [],
   "source": [
    "def read_one_coherence(bucket, key):\n",
    "    with rasterio.open(f's3://{bucket}/{key}') as ds:\n",
    "        X = ds.read(1)\n",
    "        p = ds.profile\n",
    "    return X, p\n",
    "    \n",
    "def get_coherence_for_tile(record: dict) -> tuple[np.ndarray, dict]:\n",
    "    keys = record['key']\n",
    "    bucket = record['bucket']\n",
    "    read_one_coherence_p = lambda key: read_one_coherence(bucket, key)\n",
    "    data = list(map(read_one_coherence_p, keys))\n",
    "    arrays, profiles = zip(*data)\n",
    "    mean_coh = np.mean(arrays, axis=0)\n",
    "    return mean_coh, profiles[0]\n",
    "\n",
    "def get_mask_for_tile(record: dict, threshold=70) -> tuple:\n",
    "    mean_coh, p = get_coherence_for_tile(record)\n",
    "    mask = (mean_coh >= threshold).astype('uint8')\n",
    "    return mask, p"
   ]
  },
  {
   "cell_type": "code",
   "execution_count": 8,
   "id": "e6a103d1-c4b4-4ab9-a946-016a45f72cd8",
   "metadata": {},
   "outputs": [],
   "source": [
    "X, p = get_mask_for_tile(tile_data[100])"
   ]
  },
  {
   "cell_type": "code",
   "execution_count": 9,
   "id": "3bc9c41b-d5e6-42cb-98a3-5af3a6a9824b",
   "metadata": {},
   "outputs": [
    {
     "data": {
      "image/png": "[encoded data removed]",
      "text/plain": [
       "<Figure size 640x480 with 1 Axes>"
      ]
     },
     "metadata": {},
     "output_type": "display_data"
    },
    {
     "data": {
      "text/plain": [
       "<Axes: >"
      ]
     },
     "execution_count": 9,
     "metadata": {},
     "output_type": "execute_result"
    }
   ],
   "source": [
    "show(X, transform=p['transform'])"
   ]
  },
  {
   "cell_type": "code",
   "execution_count": 10,
   "id": "cee02147-972a-4057-bec3-ab613daa8920",
   "metadata": {},
   "outputs": [],
   "source": [
    "tile_dir = Path('annual_avg_coherence_tiles')\n",
    "tile_dir.mkdir(exist_ok=True, parents=True)"
   ]
  },
  {
   "cell_type": "code",
   "execution_count": 11,
   "id": "adbd0ea8-b607-4a2a-9ebe-d170246b09d7",
   "metadata": {},
   "outputs": [],
   "source": [
    "def serialize_one(record: dict) -> Path:\n",
    "    X, p = get_mask_for_tile(record)\n",
    "    tile_id = record['tile_id']\n",
    "    out_path = tile_dir / f'{tile_id}.tif'\n",
    "    with rasterio.open(out_path, 'w', **p) as ds:\n",
    "        ds.write(X, 1)\n",
    "    return out_path"
   ]
  },
  {
   "cell_type": "code",
   "execution_count": 122,
   "id": "29853cfc-2518-4840-9c7f-960839489c80",
   "metadata": {},
   "outputs": [],
   "source": [
    "# paths = list(map(serialize_one, tqdm(tile_data)))"
   ]
  },
  {
   "cell_type": "code",
   "execution_count": 121,
   "id": "5a8fb69d-6700-402d-86ea-cce33dd2112e",
   "metadata": {},
   "outputs": [
    {
     "name": "stderr",
     "output_type": "stream",
     "text": [
      "100%|███████████| 1907/1907 [29:13<00:00,  1.09it/s]\n"
     ]
    }
   ],
   "source": [
    "with concurrent.futures.ThreadPoolExecutor(max_workers=10) as executor:\n",
    "    paths = list(tqdm(executor.map(serialize_one, tile_data[:]), total=len(tile_data)))"
   ]
  }
 ],
 "metadata": {
  "kernelspec": {
   "display_name": "s1-coherence",
   "language": "python",
   "name": "s1-coherence"
  },
  "language_info": {
   "codemirror_mode": {
    "name": "ipython",
    "version": 3
   },
   "file_extension": ".py",
   "mimetype": "text/x-python",
   "name": "python",
   "nbconvert_exporter": "python",
   "pygments_lexer": "ipython3",
   "version": "3.11.5"
  }
 },
 "nbformat": 4,
 "nbformat_minor": 5
}
