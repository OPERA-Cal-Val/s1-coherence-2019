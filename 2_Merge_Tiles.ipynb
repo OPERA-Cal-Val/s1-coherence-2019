{
 "cells": [
  {
   "cell_type": "code",
   "execution_count": 1,
   "id": "3ef66056-02d0-4d91-8f59-e25dd680d96c",
   "metadata": {},
   "outputs": [],
   "source": [
    "from pathlib import Path\n",
    "from osgeo import gdal\n",
    "import rasterio\n",
    "from rio_tools import get_geopandas_features_from_array\n",
    "import geopandas as gpd\n",
    "from tqdm import tqdm\n",
    "import pandas as pd\n",
    "from rasterio.crs import CRS"
   ]
  },
  {
   "cell_type": "markdown",
   "id": "311301c7-3208-4fe0-8104-3918b24c1680",
   "metadata": {},
   "source": [
    "# Tile Paths"
   ]
  },
  {
   "cell_type": "code",
   "execution_count": 2,
   "id": "d3bf3741-4daa-4c4f-a988-a2f15103faea",
   "metadata": {},
   "outputs": [
    {
     "data": {
      "text/plain": [
       "True"
      ]
     },
     "execution_count": 2,
     "metadata": {},
     "output_type": "execute_result"
    }
   ],
   "source": [
    "tile_dir = Path('annual_avg_coherence_tiles')\n",
    "tile_dir.exists()"
   ]
  },
  {
   "cell_type": "code",
   "execution_count": 3,
   "id": "4703e5b9-789c-4345-9845-552687f843f5",
   "metadata": {},
   "outputs": [
    {
     "data": {
      "text/plain": [
       "['annual_avg_coherence_tiles/N58W134.tif',\n",
       " 'annual_avg_coherence_tiles/N45W117.tif']"
      ]
     },
     "execution_count": 3,
     "metadata": {},
     "output_type": "execute_result"
    }
   ],
   "source": [
    "tile_paths = list(tile_dir.glob('*.tif'))\n",
    "tile_paths_str = list(map(str, tile_paths))\n",
    "tile_paths_str[:2]"
   ]
  },
  {
   "cell_type": "markdown",
   "id": "e88ad027-28dc-4058-ad39-b9913a68e65c",
   "metadata": {},
   "source": [
    "# VRT"
   ]
  },
  {
   "cell_type": "code",
   "execution_count": 4,
   "id": "1c1ff97d-f503-41fa-9eae-1cd05efe75a3",
   "metadata": {},
   "outputs": [],
   "source": [
    "vrt_path = str(tile_dir / '__north_america_mask.vrt')"
   ]
  },
  {
   "cell_type": "code",
   "execution_count": 5,
   "id": "f905d7be-cd67-4705-9ef5-c8dd0b48c8fb",
   "metadata": {},
   "outputs": [
    {
     "name": "stderr",
     "output_type": "stream",
     "text": [
      "/Users/cmarshak/mambaforge/envs/s1_coherence/lib/python3.11/site-packages/osgeo/gdal.py:287: FutureWarning: Neither gdal.UseExceptions() nor gdal.DontUseExceptions() has been explicitly called. In GDAL 4.0, exceptions will be enabled by default.\n",
      "  warnings.warn(\n"
     ]
    }
   ],
   "source": [
    "ds = gdal.BuildVRT(vrt_path, tile_paths_str)\n",
    "ds = None"
   ]
  },
  {
   "cell_type": "markdown",
   "id": "9f30a89e-36f4-4cd8-a816-94a5cffc4e2d",
   "metadata": {},
   "source": [
    "# Generate Vector Data"
   ]
  },
  {
   "cell_type": "code",
   "execution_count": 6,
   "id": "8f3691e1-5ed8-48b1-92e0-d285686cc2ba",
   "metadata": {},
   "outputs": [],
   "source": [
    "def generate_vector_tile_for_tile(path: Path) -> gpd.GeoDataFrame:\n",
    "    with rasterio.open(path) as ds:\n",
    "        X = ds.read(1)\n",
    "        p = ds.profile\n",
    "    if X.sum() == 0:\n",
    "        return gpd.GeoDataFrame()\n",
    "    features = get_geopandas_features_from_array(X, \n",
    "                                                 p['transform'], \n",
    "                                                 mask=(~X.astype(bool)))\n",
    "    df_tile = gpd.GeoDataFrame.from_features(features)[['geometry']]\n",
    "    df_tile['tile_id'] = path.stem\n",
    "    return df_tile"
   ]
  },
  {
   "cell_type": "code",
   "execution_count": 7,
   "id": "527ae98a-ad04-47a7-8d67-0744fd008721",
   "metadata": {},
   "outputs": [],
   "source": [
    "df_tile = generate_vector_tile_for_tile(tile_paths[100])"
   ]
  },
  {
   "cell_type": "code",
   "execution_count": 8,
   "id": "d414c21a-91e1-46b9-bb48-8f6f5f02b526",
   "metadata": {},
   "outputs": [
    {
     "name": "stderr",
     "output_type": "stream",
     "text": [
      "100%|███████████| 1907/1907 [01:55<00:00, 16.45it/s]\n"
     ]
    }
   ],
   "source": [
    "df_tiles = list(map(generate_vector_tile_for_tile, tqdm(tile_paths)))"
   ]
  },
  {
   "cell_type": "code",
   "execution_count": 9,
   "id": "24365128-36e6-4691-9511-38447426bff2",
   "metadata": {},
   "outputs": [
    {
     "data": {
      "text/plain": [
       "1733"
      ]
     },
     "execution_count": 9,
     "metadata": {},
     "output_type": "execute_result"
    }
   ],
   "source": [
    "df_tiles_f = list(filter(lambda df_t: not df_t.empty, df_tiles))\n",
    "len(df_tiles_f)"
   ]
  },
  {
   "cell_type": "code",
   "execution_count": 10,
   "id": "120e621e-96cc-4d42-9cf2-4317f35cb13d",
   "metadata": {},
   "outputs": [
    {
     "data": {
      "text/html": [
       "<div>\n",
       "<style scoped>\n",
       "    .dataframe tbody tr th:only-of-type {\n",
       "        vertical-align: middle;\n",
       "    }\n",
       "\n",
       "    .dataframe tbody tr th {\n",
       "        vertical-align: top;\n",
       "    }\n",
       "\n",
       "    .dataframe thead th {\n",
       "        text-align: right;\n",
       "    }\n",
       "</style>\n",
       "<table border=\"1\" class=\"dataframe\">\n",
       "  <thead>\n",
       "    <tr style=\"text-align: right;\">\n",
       "      <th></th>\n",
       "      <th>geometry</th>\n",
       "      <th>tile_id</th>\n",
       "    </tr>\n",
       "  </thead>\n",
       "  <tbody>\n",
       "    <tr>\n",
       "      <th>0</th>\n",
       "      <td>POLYGON ((-133.16250 57.91333, -133.16250 57.9...</td>\n",
       "      <td>N58W134</td>\n",
       "    </tr>\n",
       "    <tr>\n",
       "      <th>1</th>\n",
       "      <td>POLYGON ((-133.32333 57.87917, -133.32333 57.8...</td>\n",
       "      <td>N58W134</td>\n",
       "    </tr>\n",
       "    <tr>\n",
       "      <th>2</th>\n",
       "      <td>POLYGON ((-133.61583 57.57750, -133.61583 57.5...</td>\n",
       "      <td>N58W134</td>\n",
       "    </tr>\n",
       "    <tr>\n",
       "      <th>3</th>\n",
       "      <td>POLYGON ((-133.13667 57.57250, -133.13667 57.5...</td>\n",
       "      <td>N58W134</td>\n",
       "    </tr>\n",
       "    <tr>\n",
       "      <th>4</th>\n",
       "      <td>POLYGON ((-133.07250 57.53167, -133.07250 57.5...</td>\n",
       "      <td>N58W134</td>\n",
       "    </tr>\n",
       "  </tbody>\n",
       "</table>\n",
       "</div>"
      ],
      "text/plain": [
       "                                            geometry  tile_id\n",
       "0  POLYGON ((-133.16250 57.91333, -133.16250 57.9...  N58W134\n",
       "1  POLYGON ((-133.32333 57.87917, -133.32333 57.8...  N58W134\n",
       "2  POLYGON ((-133.61583 57.57750, -133.61583 57.5...  N58W134\n",
       "3  POLYGON ((-133.13667 57.57250, -133.13667 57.5...  N58W134\n",
       "4  POLYGON ((-133.07250 57.53167, -133.07250 57.5...  N58W134"
      ]
     },
     "execution_count": 10,
     "metadata": {},
     "output_type": "execute_result"
    }
   ],
   "source": [
    "df_mask = pd.concat(df_tiles_f, axis=0)\n",
    "df_mask = df_mask.set_crs(CRS.from_epsg(4326))\n",
    "df_mask.head()"
   ]
  },
  {
   "cell_type": "code",
   "execution_count": 11,
   "id": "167ebaf2-17b5-42c7-9bba-79cb92c496c4",
   "metadata": {},
   "outputs": [],
   "source": [
    "total_area = df_mask.to_crs(CRS.from_epsg(3395)).area.sum()\n",
    "total_area_km2 = total_area / 10**6"
   ]
  },
  {
   "cell_type": "code",
   "execution_count": 12,
   "id": "40141536-1e89-4d63-b50f-c30da019a83a",
   "metadata": {},
   "outputs": [
    {
     "data": {
      "text/plain": [
       "'1,145,307.382295196'"
      ]
     },
     "execution_count": 12,
     "metadata": {},
     "output_type": "execute_result"
    }
   ],
   "source": [
    "f'{total_area_km2:,}'"
   ]
  },
  {
   "cell_type": "markdown",
   "id": "3aa9092d",
   "metadata": {},
   "source": [
    "There are too many fine geometries. Could just buffer them/"
   ]
  },
  {
   "cell_type": "code",
   "execution_count": 14,
   "id": "89fbfafd-e5ed-4320-a748-b26882a2b5a7",
   "metadata": {},
   "outputs": [],
   "source": [
    "# df_mask.to_file('coherence_mask.geojson')"
   ]
  }
 ],
 "metadata": {
  "kernelspec": {
   "display_name": "s1-coherence",
   "language": "python",
   "name": "s1-coherence"
  },
  "language_info": {
   "codemirror_mode": {
    "name": "ipython",
    "version": 3
   },
   "file_extension": ".py",
   "mimetype": "text/x-python",
   "name": "python",
   "nbconvert_exporter": "python",
   "pygments_lexer": "ipython3",
   "version": "3.11.5"
  }
 },
 "nbformat": 4,
 "nbformat_minor": 5
}
